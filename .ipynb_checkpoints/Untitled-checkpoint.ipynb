{
 "cells": [
  {
   "cell_type": "code",
   "execution_count": 2,
   "id": "94001708",
   "metadata": {},
   "outputs": [],
   "source": [
    "import pandas as pd\n",
    "import numpy as np\n",
    "import re\n",
    "import nltk\n",
    "from nltk.corpus import stopwords \n",
    "from nltk.tokenize import word_tokenize \n",
    "from nltk.stem import PorterStemmer\n",
    "from sklearn.model_selection import train_test_split\n",
    "from sklearn.feature_extraction.text import CountVectorizer\n",
    "from sklearn.linear_model import  SGDClassifier\n",
    "from sklearn.svm import LinearSVC\n",
    "from sklearn.ensemble import  BaggingClassifier, ExtraTreesClassifier\n",
    "import seaborn as sns\n",
    "import matplotlib.pyplot as plt\n",
    "%matplotlib inline\n",
    "sns.set(style=\"whitegrid\")\n",
    "import warnings\n",
    "warnings.filterwarnings('ignore')"
   ]
  },
  {
   "cell_type": "code",
   "execution_count": 3,
   "id": "1dc64b34",
   "metadata": {},
   "outputs": [
    {
     "data": {
      "text/html": [
       "<div>\n",
       "<style scoped>\n",
       "    .dataframe tbody tr th:only-of-type {\n",
       "        vertical-align: middle;\n",
       "    }\n",
       "\n",
       "    .dataframe tbody tr th {\n",
       "        vertical-align: top;\n",
       "    }\n",
       "\n",
       "    .dataframe thead th {\n",
       "        text-align: right;\n",
       "    }\n",
       "</style>\n",
       "<table border=\"1\" class=\"dataframe\">\n",
       "  <thead>\n",
       "    <tr style=\"text-align: right;\">\n",
       "      <th></th>\n",
       "      <th>COMMENT_ID</th>\n",
       "      <th>AUTHOR</th>\n",
       "      <th>DATE</th>\n",
       "      <th>CONTENT</th>\n",
       "      <th>CLASS</th>\n",
       "    </tr>\n",
       "  </thead>\n",
       "  <tbody>\n",
       "    <tr>\n",
       "      <th>0</th>\n",
       "      <td>LZQPQhLyRh80UYxNuaDWhIGQYNQ96IuCg-AYWqNPjpU</td>\n",
       "      <td>Julius NM</td>\n",
       "      <td>2013-11-07T06:20:48</td>\n",
       "      <td>Huh, anyway check out this you[tube] channel: ...</td>\n",
       "      <td>1</td>\n",
       "    </tr>\n",
       "    <tr>\n",
       "      <th>1</th>\n",
       "      <td>LZQPQhLyRh_C2cTtd9MvFRJedxydaVW-2sNg5Diuo4A</td>\n",
       "      <td>adam riyati</td>\n",
       "      <td>2013-11-07T12:37:15</td>\n",
       "      <td>Hey guys check out my new channel and our firs...</td>\n",
       "      <td>1</td>\n",
       "    </tr>\n",
       "    <tr>\n",
       "      <th>2</th>\n",
       "      <td>LZQPQhLyRh9MSZYnf8djyk0gEF9BHDPYrrK-qCczIY8</td>\n",
       "      <td>Evgeny Murashkin</td>\n",
       "      <td>2013-11-08T17:34:21</td>\n",
       "      <td>just for test I have to say murdev.com</td>\n",
       "      <td>1</td>\n",
       "    </tr>\n",
       "    <tr>\n",
       "      <th>3</th>\n",
       "      <td>z13jhp0bxqncu512g22wvzkasxmvvzjaz04</td>\n",
       "      <td>ElNino Melendez</td>\n",
       "      <td>2013-11-09T08:28:43</td>\n",
       "      <td>me shaking my sexy ass on my channel enjoy ^_^ ﻿</td>\n",
       "      <td>1</td>\n",
       "    </tr>\n",
       "    <tr>\n",
       "      <th>4</th>\n",
       "      <td>z13fwbwp1oujthgqj04chlngpvzmtt3r3dw</td>\n",
       "      <td>GsMega</td>\n",
       "      <td>2013-11-10T16:05:38</td>\n",
       "      <td>watch?v=vtaRGgvGtWQ   Check this out .﻿</td>\n",
       "      <td>1</td>\n",
       "    </tr>\n",
       "  </tbody>\n",
       "</table>\n",
       "</div>"
      ],
      "text/plain": [
       "                                    COMMENT_ID            AUTHOR  \\\n",
       "0  LZQPQhLyRh80UYxNuaDWhIGQYNQ96IuCg-AYWqNPjpU         Julius NM   \n",
       "1  LZQPQhLyRh_C2cTtd9MvFRJedxydaVW-2sNg5Diuo4A       adam riyati   \n",
       "2  LZQPQhLyRh9MSZYnf8djyk0gEF9BHDPYrrK-qCczIY8  Evgeny Murashkin   \n",
       "3          z13jhp0bxqncu512g22wvzkasxmvvzjaz04   ElNino Melendez   \n",
       "4          z13fwbwp1oujthgqj04chlngpvzmtt3r3dw            GsMega   \n",
       "\n",
       "                  DATE                                            CONTENT  \\\n",
       "0  2013-11-07T06:20:48  Huh, anyway check out this you[tube] channel: ...   \n",
       "1  2013-11-07T12:37:15  Hey guys check out my new channel and our firs...   \n",
       "2  2013-11-08T17:34:21             just for test I have to say murdev.com   \n",
       "3  2013-11-09T08:28:43   me shaking my sexy ass on my channel enjoy ^_^ ﻿   \n",
       "4  2013-11-10T16:05:38            watch?v=vtaRGgvGtWQ   Check this out .﻿   \n",
       "\n",
       "   CLASS  \n",
       "0      1  \n",
       "1      1  \n",
       "2      1  \n",
       "3      1  \n",
       "4      1  "
      ]
     },
     "execution_count": 3,
     "metadata": {},
     "output_type": "execute_result"
    }
   ],
   "source": [
    "df=pd.read_csv('Youtube.csv')\n",
    "df.head()\n",
    "\n"
   ]
  },
  {
   "cell_type": "code",
   "execution_count": 4,
   "id": "923513e6",
   "metadata": {
    "scrolled": true
   },
   "outputs": [
    {
     "name": "stdout",
     "output_type": "stream",
     "text": [
      "                                    COMMENT_ID            AUTHOR  \\\n",
      "0  LZQPQhLyRh80UYxNuaDWhIGQYNQ96IuCg-AYWqNPjpU         Julius NM   \n",
      "1  LZQPQhLyRh_C2cTtd9MvFRJedxydaVW-2sNg5Diuo4A       adam riyati   \n",
      "2  LZQPQhLyRh9MSZYnf8djyk0gEF9BHDPYrrK-qCczIY8  Evgeny Murashkin   \n",
      "3          z13jhp0bxqncu512g22wvzkasxmvvzjaz04   ElNino Melendez   \n",
      "4          z13fwbwp1oujthgqj04chlngpvzmtt3r3dw            GsMega   \n",
      "\n",
      "                  DATE                                            CONTENT  \\\n",
      "0  2013-11-07T06:20:48  Huh, anyway check out this you[tube] channel: ...   \n",
      "1  2013-11-07T12:37:15  Hey guys check out my new channel and our firs...   \n",
      "2  2013-11-08T17:34:21             just for test I have to say murdev.com   \n",
      "3  2013-11-09T08:28:43   me shaking my sexy ass on my channel enjoy ^_^ ﻿   \n",
      "4  2013-11-10T16:05:38            watch?v=vtaRGgvGtWQ   Check this out .﻿   \n",
      "\n",
      "   CLASS  \n",
      "0      1  \n",
      "1      1  \n",
      "2      1  \n",
      "3      1  \n",
      "4      1  \n"
     ]
    }
   ],
   "source": [
    "filtered_data = df[df['CLASS'] == 1]\n",
    "print(filtered_data.head())"
   ]
  },
  {
   "cell_type": "code",
   "execution_count": 5,
   "id": "e104f5f4",
   "metadata": {},
   "outputs": [
    {
     "name": "stdout",
     "output_type": "stream",
     "text": [
      "                               COMMENT_ID         AUTHOR                 DATE  \\\n",
      "7   z122wfnzgt30fhubn04cdn3xfx2mxzngsl40k   Bob Kanowski  2013-11-28T12:33:27   \n",
      "16    z13bgdvyluihfv11i22rgxwhuvabzz1os04    Zielimeek21  2013-11-28T21:49:00   \n",
      "20    z12axnji5w2axxht522thb3bktvqjdlbp04   zhichao wang  2013-11-29T02:13:56   \n",
      "23  z12ntlcqht2bvjewi04cf1up0xjvs5lq3mc0k       Owen Lai  2013-12-01T04:51:52   \n",
      "28  z13tj514otzlurfbc04ccjwhrnmej1iihqw0k  Brandon Pryor  2014-01-19T00:36:25   \n",
      "\n",
      "                                              CONTENT  CLASS  \n",
      "7   i turned it on mute as soon is i came on i jus...      0  \n",
      "16                       I'm only checking the views﻿      0  \n",
      "20  i think about 100 millions of the views come f...      0  \n",
      "23                           just checking the views﻿      0  \n",
      "28  I dont even watch it anymore i just come here ...      0  \n"
     ]
    }
   ],
   "source": [
    "filtered_data = df[df['CLASS'] == 0]\n",
    "print(filtered_data.head())"
   ]
  },
  {
   "cell_type": "code",
   "execution_count": 6,
   "id": "45539a92",
   "metadata": {},
   "outputs": [
    {
     "data": {
      "image/png": "[encoded data removed]",
      "text/plain": [
       "<Figure size 600x600 with 1 Axes>"
      ]
     },
     "metadata": {},
     "output_type": "display_data"
    }
   ],
   "source": [
    "df['class_label'] = df['CLASS'].map({1: 'Spam', 0: 'Not Spam'})\n",
    "\n",
    "# Count the occurrences of each class\n",
    "class_counts = df['class_label'].value_counts()\n",
    "\n",
    "# Create a pie chart\n",
    "plt.figure(figsize=(6, 6))\n",
    "plt.pie(class_counts, labels=class_counts.index, autopct='%1.1f%%', startangle=90, colors=['red', 'green'])\n",
    "plt.title('Class Distribution')\n",
    "plt.show()"
   ]
  },
  {
   "cell_type": "code",
   "execution_count": 7,
   "id": "5d3ef4cc",
   "metadata": {},
   "outputs": [],
   "source": [
    "comments = df['CONTENT']\n",
    "labels = df['CLASS'].values"
   ]
  },
  {
   "cell_type": "code",
   "execution_count": 8,
   "id": "c87b3822",
   "metadata": {},
   "outputs": [
    {
     "data": {
      "text/plain": [
       "1    1005\n",
       "0     951\n",
       "Name: count, dtype: int64"
      ]
     },
     "execution_count": 8,
     "metadata": {},
     "output_type": "execute_result"
    }
   ],
   "source": [
    "pd.Series(labels).value_counts()"
   ]
  },
  {
   "cell_type": "code",
   "execution_count": 9,
   "id": "9066b492",
   "metadata": {},
   "outputs": [],
   "source": [
    "comments = comments.apply(lambda x: x.lower())"
   ]
  },
  {
   "cell_type": "code",
   "execution_count": 10,
   "id": "d1de79c3",
   "metadata": {},
   "outputs": [],
   "source": [
    "def replace_url(text, replacement):\n",
    "    text = str(text)\n",
    "    text = re.sub('http[s]?://(?:[a-zA-Z]|[0-9]|[$-_@.&+]|[!*\\(\\),]|(?:%[0-9a-fA-F][0-9a-fA-F]))+', replacement, text)\n",
    "    text = re.sub('[/]?watch(?:[a-zA-Z]|[0-9]|[$-_@.&+]|[!*\\(\\),]|(?:%[0-9a-fA-F][0-9a-fA-F]))+', replacement, text)\n",
    "    \n",
    "    return text\n",
    "\n",
    "# Replace url to http\n",
    "comments = comments.apply(lambda x: replace_url(x, 'http'))"
   ]
  },
  {
   "cell_type": "code",
   "execution_count": 11,
   "id": "87ee470a",
   "metadata": {},
   "outputs": [],
   "source": [
    "def remove_encoding(text):\n",
    "    text = str(text)\n",
    "    text = text.replace('\\ufeff', '')\n",
    "    return text\n",
    "\n",
    "# Remove encoding\n",
    "comments = comments.apply(lambda x: remove_encoding(x))"
   ]
  },
  {
   "cell_type": "code",
   "execution_count": 12,
   "id": "82bb5002",
   "metadata": {},
   "outputs": [],
   "source": [
    "# tokenize all comments in the data\n",
    "comments_token = comments.apply(lambda x: x.split())"
   ]
  },
  {
   "cell_type": "code",
   "execution_count": 13,
   "id": "fe1c5ee4",
   "metadata": {},
   "outputs": [
    {
     "name": "stdout",
     "output_type": "stream",
     "text": [
      "Average word length of comments is 16.\n",
      "Max word length of comments is 213.\n",
      "Min word length of comments is 1.\n"
     ]
    }
   ],
   "source": [
    "print('Average word length of comments is {0:.0f}.'.format(np.mean(comments_token.apply(lambda x: len(x)))))\n",
    "print('Max word length of comments is {0:.0f}.'.format(np.max(comments_token.apply(lambda x: len(x)))))\n",
    "print('Min word length of comments is {0:.0f}.'.format(np.min(comments_token.apply(lambda x: len(x)))))"
   ]
  },
  {
   "cell_type": "code",
   "execution_count": 14,
   "id": "771b7b63",
   "metadata": {},
   "outputs": [],
   "source": [
    "stop_words = set(stopwords.words('english')) \n",
    "\n",
    "comments_rsw = []\n",
    "for comment_token in comments_token:\n",
    "    filtered_comment = [w for w in comment_token if not w in stop_words] \n",
    "    comments_rsw.append(filtered_comment)\n",
    "#print(comments_rsw)"
   ]
  },
  {
   "cell_type": "code",
   "execution_count": 15,
   "id": "088b078c",
   "metadata": {},
   "outputs": [],
   "source": [
    "def lemmatization(dataset):\n",
    "    lemma = nltk.WordNetLemmatizer()\n",
    "    comments_lemma = []\n",
    "    for comment in comments_rsw:\n",
    "        comment_lemma = [lemma.lemmatize(w) for w in comment]\n",
    "        comments_lemma.append(comment_lemma)\n",
    "    return comments_lemma\n",
    "\n",
    "# Words lemmatization\n",
    "comments_lemma = lemmatization(comments_rsw)\n",
    "#print(comments_lemma)\n",
    "#print(labels)"
   ]
  },
  {
   "cell_type": "code",
   "execution_count": 16,
   "id": "7ff8c50b",
   "metadata": {},
   "outputs": [],
   "source": [
    "X_train, X_test, y_train, y_test = train_test_split(comments_lemma, \n",
    "                                                    labels, \n",
    "                                                    test_size=0.2, \n",
    "                                                    shuffle=True, \n",
    "                                                    random_state=0, \n",
    "                                                    stratify=labels)"
   ]
  },
  {
   "cell_type": "code",
   "execution_count": 17,
   "id": "dcedf5fe",
   "metadata": {},
   "outputs": [],
   "source": [
    "# Create bag of words\n",
    "from joblib import dump, load\n",
    "\n",
    "X_train_untokenized = []\n",
    "\n",
    "for comment in X_train:\n",
    "    text = ' '.join(comment)\n",
    "    X_train_untokenized.append(text)\n",
    "    \n",
    "vect = CountVectorizer(min_df=3)\n",
    "vect.fit(X_train_untokenized)\n",
    "\n",
    "\n",
    "X_test_untokenized = []\n",
    "\n",
    "for comment in X_test:\n",
    "    text = ' '.join(comment)\n",
    "    X_test_untokenized.append(text)\n",
    "\n",
    "X_train = vect.transform(X_train_untokenized).toarray()\n",
    "X_test = vect.transform(X_test_untokenized).toarray()\n",
    "\n"
   ]
  },
  {
   "cell_type": "code",
   "execution_count": 20,
   "id": "bd92863a",
   "metadata": {},
   "outputs": [
    {
     "data": {
      "image/png": "[encoded data removed]",
      "text/plain": [
       "<Figure size 1200x1000 with 1 Axes>"
      ]
     },
     "metadata": {},
     "output_type": "display_data"
    }
   ],
   "source": [
    "from sklearn.model_selection import cross_validate\n",
    "from sklearn.model_selection import StratifiedShuffleSplit\n",
    "\n",
    "# List of machine learning algorithms that will be used for predictions\n",
    "from sklearn.linear_model import PassiveAggressiveClassifier\n",
    "\n",
    "# Add Passive Aggressive Classifier to the list of estimators\n",
    "estimator = [  \n",
    "    ('SGD Classifier', SGDClassifier),  \n",
    "    ('Linear SVC', LinearSVC), \n",
    "    ('Bagging Classifier', BaggingClassifier), \n",
    "    ('Extra Trees Classifier', ExtraTreesClassifier),\n",
    "    ('Passive Aggressive Classifier', PassiveAggressiveClassifier)\n",
    "]\n",
    "\n",
    "# Creating a dataframe to compare the performance of the machine learning models\n",
    "comparison_cols = ['Algorithm', 'Training Time (Avg)', 'Accuracy (Avg)', 'Accuracy (3xSTD)']\n",
    "comparison_df = pd.DataFrame(columns=comparison_cols)\n",
    "\n",
    "# Generating training/validation dataset splits for cross validation\n",
    "cv_split = StratifiedShuffleSplit(n_splits=10, test_size=0.3, random_state=0)\n",
    "\n",
    "# Performing cross-validation to estimate the performance of the models\n",
    "for idx, est in enumerate(estimator):\n",
    "    \n",
    "    cv_results = cross_validate(est[1](), X_train, y_train, cv=cv_split)\n",
    "    \n",
    "    comparison_df.loc[idx, 'Algorithm'] = est[0]\n",
    "    comparison_df.loc[idx, 'Training Time (Avg)'] = cv_results['fit_time'].mean()\n",
    "    comparison_df.loc[idx, 'Accuracy (Avg)'] = cv_results['test_score'].mean()\n",
    "    comparison_df.loc[idx, 'Accuracy (3xSTD)'] = cv_results['test_score'].std() * 3\n",
    "\n",
    "comparison_df.set_index(keys='Algorithm', inplace=True)\n",
    "comparison_df.sort_values(by='Accuracy (Avg)', ascending=False, inplace=True)\n",
    "\n",
    "#Visualizing the performance of the models\n",
    "fig, ax = plt.subplots(figsize=(12,10))\n",
    "\n",
    "y_pos = np.arange(len(comparison_df))\n",
    "ax.barh(y_pos, comparison_df['Accuracy (Avg)'], xerr=comparison_df['Accuracy (3xSTD)'], color='purple')\n",
    "ax.set_yticks(y_pos)\n",
    "ax.set_yticklabels(comparison_df.index)\n",
    "ax.set_xlabel('Accuracy Score (Average)')\n",
    "ax.set_title('Performance Comparison After Simple Modelling', size=13)\n",
    "ax.set_xlim(0, 1)\n",
    "\n",
    "plt.show()\n"
   ]
  },
  {
   "cell_type": "code",
   "execution_count": 21,
   "id": "e2278acb",
   "metadata": {},
   "outputs": [
    {
     "name": "stdout",
     "output_type": "stream",
     "text": [
      "The accuracy of the model based on the test set: 0.9413265306122449\n"
     ]
    }
   ],
   "source": [
    "from sklearn.metrics import accuracy_score\n",
    "from joblib import dump, load\n",
    "\n",
    "clf = ExtraTreesClassifier(criterion = 'gini',\n",
    "                           n_estimators = 100,\n",
    "                       random_state = 0)\n",
    "\n",
    "clf.fit(X_train, y_train)\n",
    "predictions = clf.predict(X_test)\n",
    "print('The accuracy of the model based on the test set: {}'.format(accuracy_score(y_test, predictions)))"
   ]
  },
  {
   "cell_type": "code",
   "execution_count": 22,
   "id": "56028085",
   "metadata": {},
   "outputs": [
    {
     "data": {
      "text/plain": [
       "['ExtraTreesClassifier.pkl']"
      ]
     },
     "execution_count": 22,
     "metadata": {},
     "output_type": "execute_result"
    }
   ],
   "source": [
    "from joblib import dump, load\n",
    "\n",
    "model = ExtraTreesClassifier()\n",
    "model.fit(X_train, y_train)\n",
    "\n",
    "# Save both the model and the vectorizer\n",
    "dump((model, vect), 'ExtraTreesClassifier.pkl')"
   ]
  },
  {
   "cell_type": "code",
   "execution_count": 23,
   "id": "50058cd1",
   "metadata": {},
   "outputs": [
    {
     "ename": "IndentationError",
     "evalue": "unexpected indent (3036441730.py, line 3)",
     "output_type": "error",
     "traceback": [
      "\u001b[1;36m  Cell \u001b[1;32mIn[23], line 3\u001b[1;36m\u001b[0m\n\u001b[1;33m    loaded_model, loaded_vect = load('ExtraTreesClassifier.pkl')\u001b[0m\n\u001b[1;37m    ^\u001b[0m\n\u001b[1;31mIndentationError\u001b[0m\u001b[1;31m:\u001b[0m unexpected indent\n"
     ]
    }
   ],
   "source": [
    "from joblib import load\n",
    "from sklearn.feature_extraction.text import CountVectorizer\n",
    "loaded_model, loaded_vect = load('ExtraTreesClassifier.pkl')\n",
    "new_comment = [\"i turned it on mute as soon is i came on i just wanted to check the  views...ï»¿\"]\n",
    "new_comment_transformed = loaded_vect.transform(new_comment).toarray()\n",
    "prediction = loaded_model.predict(new_comment_transformed)[0]\n",
    "if prediction == 1:\n",
    "    print(\"The comment is spam.\")\n",
    "else:\n",
    "    print(\"The comment is not spam.\")\n"
   ]
  },
  {
   "cell_type": "code",
   "execution_count": null,
   "id": "27bc039a",
   "metadata": {},
   "outputs": [],
   "source": []
  }
 ],
 "metadata": {
  "kernelspec": {
   "display_name": "Python 3 (ipykernel)",
   "language": "python",
   "name": "python3"
  },
  "language_info": {
   "codemirror_mode": {
    "name": "ipython",
    "version": 3
   },
   "file_extension": ".py",
   "mimetype": "text/x-python",
   "name": "python",
   "nbconvert_exporter": "python",
   "pygments_lexer": "ipython3",
   "version": "3.11.5"
  }
 },
 "nbformat": 4,
 "nbformat_minor": 5
}
